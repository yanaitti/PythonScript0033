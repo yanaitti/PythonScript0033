{
 "cells": [
  {
   "cell_type": "code",
   "execution_count": 6,
   "metadata": {},
   "outputs": [],
   "source": [
    "import pandas as pd\n",
    "import numpy as np\n",
    "from pandas import Series, DataFrame\n",
    "from numpy.random import randn"
   ]
  },
  {
   "cell_type": "code",
   "execution_count": 7,
   "metadata": {},
   "outputs": [],
   "source": [
    "dframe = DataFrame(randn(25).reshape(5,5), index=['a', 'b', 'd', 'e', 'f'], columns=['col1', 'col2', 'col3', 'col4', 'col5'])"
   ]
  },
  {
   "cell_type": "code",
   "execution_count": 8,
   "metadata": {},
   "outputs": [
    {
     "data": {
      "text/html": [
       "<div>\n",
       "<style scoped>\n",
       "    .dataframe tbody tr th:only-of-type {\n",
       "        vertical-align: middle;\n",
       "    }\n",
       "\n",
       "    .dataframe tbody tr th {\n",
       "        vertical-align: top;\n",
       "    }\n",
       "\n",
       "    .dataframe thead th {\n",
       "        text-align: right;\n",
       "    }\n",
       "</style>\n",
       "<table border=\"1\" class=\"dataframe\">\n",
       "  <thead>\n",
       "    <tr style=\"text-align: right;\">\n",
       "      <th></th>\n",
       "      <th>col1</th>\n",
       "      <th>col2</th>\n",
       "      <th>col3</th>\n",
       "      <th>col4</th>\n",
       "      <th>col5</th>\n",
       "    </tr>\n",
       "  </thead>\n",
       "  <tbody>\n",
       "    <tr>\n",
       "      <th>a</th>\n",
       "      <td>0.315034</td>\n",
       "      <td>-0.841370</td>\n",
       "      <td>0.610378</td>\n",
       "      <td>0.258526</td>\n",
       "      <td>-1.660549</td>\n",
       "    </tr>\n",
       "    <tr>\n",
       "      <th>b</th>\n",
       "      <td>1.749091</td>\n",
       "      <td>-0.261896</td>\n",
       "      <td>-0.509930</td>\n",
       "      <td>-0.694884</td>\n",
       "      <td>0.886079</td>\n",
       "    </tr>\n",
       "    <tr>\n",
       "      <th>d</th>\n",
       "      <td>-0.847550</td>\n",
       "      <td>-2.797616</td>\n",
       "      <td>-0.731310</td>\n",
       "      <td>0.875610</td>\n",
       "      <td>1.417633</td>\n",
       "    </tr>\n",
       "    <tr>\n",
       "      <th>e</th>\n",
       "      <td>-1.726486</td>\n",
       "      <td>-0.322868</td>\n",
       "      <td>1.398602</td>\n",
       "      <td>-1.640344</td>\n",
       "      <td>1.554163</td>\n",
       "    </tr>\n",
       "    <tr>\n",
       "      <th>f</th>\n",
       "      <td>-0.462033</td>\n",
       "      <td>-0.192735</td>\n",
       "      <td>-2.120539</td>\n",
       "      <td>-1.258530</td>\n",
       "      <td>-1.004173</td>\n",
       "    </tr>\n",
       "  </tbody>\n",
       "</table>\n",
       "</div>"
      ],
      "text/plain": [
       "       col1      col2      col3      col4      col5\n",
       "a  0.315034 -0.841370  0.610378  0.258526 -1.660549\n",
       "b  1.749091 -0.261896 -0.509930 -0.694884  0.886079\n",
       "d -0.847550 -2.797616 -0.731310  0.875610  1.417633\n",
       "e -1.726486 -0.322868  1.398602 -1.640344  1.554163\n",
       "f -0.462033 -0.192735 -2.120539 -1.258530 -1.004173"
      ]
     },
     "execution_count": 8,
     "metadata": {},
     "output_type": "execute_result"
    }
   ],
   "source": [
    "dframe"
   ]
  },
  {
   "cell_type": "code",
   "execution_count": 13,
   "metadata": {},
   "outputs": [],
   "source": [
    "new_index = ['a', 'b', 'c', 'd', 'e', 'f']\n",
    "dframe2 = dframe.reindex(new_index)"
   ]
  },
  {
   "cell_type": "code",
   "execution_count": 14,
   "metadata": {},
   "outputs": [
    {
     "data": {
      "text/html": [
       "<div>\n",
       "<style scoped>\n",
       "    .dataframe tbody tr th:only-of-type {\n",
       "        vertical-align: middle;\n",
       "    }\n",
       "\n",
       "    .dataframe tbody tr th {\n",
       "        vertical-align: top;\n",
       "    }\n",
       "\n",
       "    .dataframe thead th {\n",
       "        text-align: right;\n",
       "    }\n",
       "</style>\n",
       "<table border=\"1\" class=\"dataframe\">\n",
       "  <thead>\n",
       "    <tr style=\"text-align: right;\">\n",
       "      <th></th>\n",
       "      <th>col1</th>\n",
       "      <th>col2</th>\n",
       "      <th>col3</th>\n",
       "      <th>col4</th>\n",
       "      <th>col5</th>\n",
       "    </tr>\n",
       "  </thead>\n",
       "  <tbody>\n",
       "    <tr>\n",
       "      <th>a</th>\n",
       "      <td>0.315034</td>\n",
       "      <td>-0.841370</td>\n",
       "      <td>0.610378</td>\n",
       "      <td>0.258526</td>\n",
       "      <td>-1.660549</td>\n",
       "    </tr>\n",
       "    <tr>\n",
       "      <th>b</th>\n",
       "      <td>1.749091</td>\n",
       "      <td>-0.261896</td>\n",
       "      <td>-0.509930</td>\n",
       "      <td>-0.694884</td>\n",
       "      <td>0.886079</td>\n",
       "    </tr>\n",
       "    <tr>\n",
       "      <th>c</th>\n",
       "      <td>NaN</td>\n",
       "      <td>NaN</td>\n",
       "      <td>NaN</td>\n",
       "      <td>NaN</td>\n",
       "      <td>NaN</td>\n",
       "    </tr>\n",
       "    <tr>\n",
       "      <th>d</th>\n",
       "      <td>-0.847550</td>\n",
       "      <td>-2.797616</td>\n",
       "      <td>-0.731310</td>\n",
       "      <td>0.875610</td>\n",
       "      <td>1.417633</td>\n",
       "    </tr>\n",
       "    <tr>\n",
       "      <th>e</th>\n",
       "      <td>-1.726486</td>\n",
       "      <td>-0.322868</td>\n",
       "      <td>1.398602</td>\n",
       "      <td>-1.640344</td>\n",
       "      <td>1.554163</td>\n",
       "    </tr>\n",
       "    <tr>\n",
       "      <th>f</th>\n",
       "      <td>-0.462033</td>\n",
       "      <td>-0.192735</td>\n",
       "      <td>-2.120539</td>\n",
       "      <td>-1.258530</td>\n",
       "      <td>-1.004173</td>\n",
       "    </tr>\n",
       "  </tbody>\n",
       "</table>\n",
       "</div>"
      ],
      "text/plain": [
       "       col1      col2      col3      col4      col5\n",
       "a  0.315034 -0.841370  0.610378  0.258526 -1.660549\n",
       "b  1.749091 -0.261896 -0.509930 -0.694884  0.886079\n",
       "c       NaN       NaN       NaN       NaN       NaN\n",
       "d -0.847550 -2.797616 -0.731310  0.875610  1.417633\n",
       "e -1.726486 -0.322868  1.398602 -1.640344  1.554163\n",
       "f -0.462033 -0.192735 -2.120539 -1.258530 -1.004173"
      ]
     },
     "execution_count": 14,
     "metadata": {},
     "output_type": "execute_result"
    }
   ],
   "source": [
    "dframe2"
   ]
  },
  {
   "cell_type": "code",
   "execution_count": null,
   "metadata": {},
   "outputs": [],
   "source": []
  }
 ],
 "metadata": {
  "kernelspec": {
   "display_name": "Python 3",
   "language": "python",
   "name": "python3"
  },
  "language_info": {
   "codemirror_mode": {
    "name": "ipython",
    "version": 3
   },
   "file_extension": ".py",
   "mimetype": "text/x-python",
   "name": "python",
   "nbconvert_exporter": "python",
   "pygments_lexer": "ipython3",
   "version": "3.7.4"
  }
 },
 "nbformat": 4,
 "nbformat_minor": 2
}
