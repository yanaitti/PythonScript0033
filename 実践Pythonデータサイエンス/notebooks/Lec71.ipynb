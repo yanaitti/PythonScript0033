{
 "cells": [
  {
   "cell_type": "markdown",
   "metadata": {},
   "source": [
    "# 機械学習入門"
   ]
  },
  {
   "cell_type": "markdown",
   "metadata": {},
   "source": [
    "このセクションは、[SciKit Learn](http://scikit-learn.org/stable/) を使った実践的な機械学習の入門コースです。\n",
    "\n",
    "インストールが済んでいない場合は、以下のいずれかの方法でインストールしておいてください。\n",
    "\n",
    "pip install scikit-learn\n",
    "\n",
    "conda install scikit-learn"
   ]
  },
  {
   "cell_type": "markdown",
   "metadata": {},
   "source": [
    "### このコースで学べること\n",
    "\n",
    "機械学習アルゴリズムには、数学的な背景があります。各レクチャーは、できるだけ分かり易くこの背景を説明したあと、実際にPythonのコードを実行する流れになります。\n",
    "\n",
    "機械学習に関する話題は広いので、すべてを網羅することは出来ませんが、レクチャーを終えれば、いろいろな方法論についての知識が付きます。"
   ]
  },
  {
   "cell_type": "markdown",
   "metadata": {},
   "source": [
    "### 機械学習に関する資料\n",
    "\n",
    "1.) SciKit Learnのドキュメントは、英語になってしまいますが秀逸です。\n",
    "\n",
    "   [SciKit Learn Tutorial](http://www.astroml.org/sklearn_tutorial/general_concepts.html)\n",
    "   \n",
    "2.) 数少ない日本語の入門コースです [技術評論社のページ](http://gihyo.jp/dev/serial/01/machine-learning)\n",
    "\n",
    "\n",
    "3.) sasという会社さんのページですが、よくまとまっています。[機械学習](http://www.sas.com/ja_jp/insights/analytics/machine-learning.html)\n",
    "\n",
    "4.) 英語になってしまいますが、Andrew Ng先生の講義です。\n",
    "\n",
    "[notes](http://cs229.stanford.edu/materials.html)\n",
    "\n",
    "[Coursera Video](https://www.coursera.org/learn/machine-learning)\n",
    "\n",
    "Pythonやscikit learnは使っていませんが、数学的な背景についてはよい入門になっています。"
   ]
  }
 ],
 "metadata": {
  "kernelspec": {
   "display_name": "Python 3",
   "language": "python",
   "name": "python3"
  },
  "language_info": {
   "codemirror_mode": {
    "name": "ipython",
    "version": 3
   },
   "file_extension": ".py",
   "mimetype": "text/x-python",
   "name": "python",
   "nbconvert_exporter": "python",
   "pygments_lexer": "ipython3",
   "version": "3.4.3"
  }
 },
 "nbformat": 4,
 "nbformat_minor": 0
}
