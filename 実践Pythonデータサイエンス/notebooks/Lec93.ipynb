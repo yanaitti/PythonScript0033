{
 "cells": [
  {
   "cell_type": "markdown",
   "metadata": {},
   "source": [
    "#### ポアソン分布とは？"
   ]
  },
  {
   "cell_type": "markdown",
   "metadata": {},
   "source": [
    "ポアソン分布は、ある間隔（時間や長さなど）の間に起こるイベントの回数に注目するものです。\n",
    "まずは、その定義をみたあとに、その式の意味するところを噛み砕いていくことにしましょう。"
   ]
  },
  {
   "cell_type": "markdown",
   "metadata": {},
   "source": [
    "離散確率変数Xが、パラメータλを持つポアソン分布に従うとき、k=0,1,2.., に対応する確率を生成する確率質量関数は、次の式で与えられます。"
   ]
  },
  {
   "cell_type": "markdown",
   "metadata": {},
   "source": [
    "$$Pr(X=k)=\\frac{\\lambda^ke^{-\\lambda}}{k!}$$"
   ]
  },
  {
   "cell_type": "markdown",
   "metadata": {},
   "source": [
    "eは自然対数の底（ネイピア数）で、e=2.718...となる数です。k!はkの階乗。      "
   ]
  },
  {
   "cell_type": "markdown",
   "metadata": {},
   "source": [
    "ポアソン分布には、次のような性質があります。\n",
    "\n",
    "    1.) 離散的です。(x=0,1,2,3...)\n",
    "    2.) この数は、0から無限大までの値を取り得ます。\n",
    "    3.) あまり頻繁には起こらない事象の確率分布を表現します。\n",
    "    4.) それぞれの事象は独立です。\n",
    "    5.) 時間や距離などの間隔で起きる事象について記述します。\n",
    "    6.) 事象が起きる回数の期待値は定数です。"
   ]
  },
  {
   "cell_type": "markdown",
   "metadata": {},
   "source": [
    "例を見てみましょう。\n",
    "\n",
    "マクドナルドのランチのピークは、12:30から1:00の間です。これまでの経験から、平均で10人のお客さんが、この時間帯に来店することが分かっています。それでは、ちょうど7人のお客さんが来店する確率はどれくらいでしょうか？また、10人より多いお客さんが来る確率はどれくらいでしょうか？"
   ]
  },
  {
   "cell_type": "markdown",
   "metadata": {},
   "source": [
    "これまでの経験から、お昼のピーク30分間に、10人のお客さんが来ることがわかっています。この10は平均値、つまり期待値です。これはポアソン分布のパラメータλに相当します。"
   ]
  },
  {
   "cell_type": "markdown",
   "metadata": {},
   "source": [
    "ポアソン分布はλが決まれば、決まりますので、この例題に答えることができます。やってみましょう。"
   ]
  },
  {
   "cell_type": "code",
   "execution_count": 2,
   "metadata": {
    "collapsed": false
   },
   "outputs": [
    {
     "name": "stdout",
     "output_type": "stream",
     "text": [
      " 昼のピーク時にお客さんが7人である確率は、9.01%です。\n"
     ]
    }
   ],
   "source": [
    "# 残念ながら、lambdaはPythonでは予約語なので、そのまま変数名には使えます。\n",
    "\n",
    "# lambとして、λをセットします。\n",
    "lamb = 10\n",
    "\n",
    "# ちょうど7人来る確率を計算したいので、k=7です。\n",
    "k=7\n",
    "\n",
    "# 標準mathモジュールから、必要なモノをインポート\n",
    "from math import exp\n",
    "from math import factorial\n",
    "#Python2を使っているなら\n",
    "from __future__ import division\n",
    "\n",
    "# 確率質量関数をつかって確率を計算します。\n",
    "prob = (lamb**k)*exp(-lamb)/factorial(k)\n",
    "\n",
    "print(' 昼のピーク時にお客さんが7人である確率は、{:0.2f}%です。'.format(100*prob))"
   ]
  },
  {
   "cell_type": "markdown",
   "metadata": {},
   "source": [
    "確率質量関数を手作りできました。scipyを使うともう少し楽です。"
   ]
  },
  {
   "cell_type": "code",
   "execution_count": 20,
   "metadata": {
    "collapsed": false
   },
   "outputs": [
    {
     "name": "stdout",
     "output_type": "stream",
     "text": [
      "ピーク時に7人の確率は9.01％\n",
      "平均=10.0\n"
     ]
    }
   ],
   "source": [
    "# scipy.statsから、 poissonをインポートします\n",
    "from scipy.stats import poisson\n",
    "\n",
    "# 平均は10です。\n",
    "mu = 10\n",
    "\n",
    "# 平均と分散を計算できます。\n",
    "mean,var = poisson.stats(mu)\n",
    "\n",
    "# 確率質量関数を使って、特定の確率を計算することも可能です。\n",
    "odds_seven = poisson.pmf(7,mu)\n",
    "\n",
    "print('ピーク時に7人の確率は{:0.2f}％'.format(odds_seven*100))\n",
    "\n",
    "print('平均={}'.format(mean))"
   ]
  },
  {
   "cell_type": "markdown",
   "metadata": {},
   "source": [
    "分布の全体を見ておくことにします。これは、10人よりお客が多い確率を求めるのに必要です。"
   ]
  },
  {
   "cell_type": "code",
   "execution_count": 14,
   "metadata": {
    "collapsed": false
   },
   "outputs": [
    {
     "data": {
      "text/plain": [
       "array([  4.53999298e-05,   4.53999298e-04,   2.26999649e-03,\n",
       "         7.56665496e-03,   1.89166374e-02,   3.78332748e-02,\n",
       "         6.30554580e-02,   9.00792257e-02,   1.12599032e-01,\n",
       "         1.25110036e-01,   1.25110036e-01,   1.13736396e-01,\n",
       "         9.47803301e-02,   7.29079462e-02,   5.20771044e-02,\n",
       "         3.47180696e-02,   2.16987935e-02,   1.27639962e-02,\n",
       "         7.09110899e-03,   3.73216263e-03,   1.86608131e-03,\n",
       "         8.88610150e-04,   4.03913704e-04,   1.75614654e-04,\n",
       "         7.31727725e-05,   2.92691090e-05,   1.12573496e-05,\n",
       "         4.16938875e-06,   1.48906741e-06,   5.13471521e-07])"
      ]
     },
     "execution_count": 14,
     "metadata": {},
     "output_type": "execute_result"
    }
   ],
   "source": [
    "# 確率質量関数をプロットしてみましょう。\n",
    "\n",
    "import numpy as np\n",
    "\n",
    "# ひとまず、30人のお客さんが来る確率です。理論的には無限大まであり得ます。\n",
    "k=np.arange(30)\n",
    "\n",
    "# 平均は10です。\n",
    "lamb = 10\n",
    "\n",
    "# これで確率を計算できます。\n",
    "pmf_pois = poisson.pmf(k,lamb)\n",
    "pmf_pois"
   ]
  },
  {
   "cell_type": "code",
   "execution_count": 15,
   "metadata": {
    "collapsed": false
   },
   "outputs": [
    {
     "data": {
      "text/plain": [
       "<Container object of 30 artists>"
      ]
     },
     "execution_count": 15,
     "metadata": {},
     "output_type": "execute_result"
    },
    {
     "data": {
      "image/png": "[encoded data removed]",
      "text/plain": [
       "<matplotlib.figure.Figure at 0x106bfd1d0>"
      ]
     },
     "metadata": {},
     "output_type": "display_data"
    }
   ],
   "source": [
    "import matplotlib.pyplot as plt\n",
    "import seaborn as sns\n",
    "%matplotlib inline\n",
    "\n",
    "\n",
    "plt.bar(k,pmf_pois)"
   ]
  },
  {
   "cell_type": "markdown",
   "metadata": {},
   "source": [
    "10人より多くのお客さんがくる確率はどれくらいでしょうか？\n",
    "\n",
    "これは、11人以降の確率の値をすべて足し合わせれば良いわけですが、これを実現するのが、累積分布関数（CDF: Cumulative Distribution Function）です。\n",
    "\n",
    "累積分布関数は、指定された値までの確率を足し合わせた値を返してくれます。"
   ]
  },
  {
   "cell_type": "code",
   "execution_count": 19,
   "metadata": {
    "collapsed": false
   },
   "outputs": [
    {
     "name": "stdout",
     "output_type": "stream",
     "text": [
      "お客さんが10人までの確率は、58.30%です。\n"
     ]
    }
   ],
   "source": [
    "# お客さんが10人までの確率を計算するので、k = 10です。平均値もおなじく10\n",
    "k,mu = 10,10\n",
    "\n",
    "# お客さんが10人までの確率を次のコードで計算できます。\n",
    "prob_up_to_ten = poisson.cdf(k,mu)\n",
    "\n",
    "print('お客さんが10人までの確率は、{:0.2f}%です。'.format(100*prob_up_to_ten))"
   ]
  },
  {
   "cell_type": "markdown",
   "metadata": {},
   "source": [
    "10により多く来る確率は、1からこの値を引くだけです。"
   ]
  },
  {
   "cell_type": "code",
   "execution_count": 18,
   "metadata": {
    "collapsed": false
   },
   "outputs": [
    {
     "name": "stdout",
     "output_type": "stream",
     "text": [
      "10人より多くのお客さんが来る確率は、41.70%です。\n"
     ]
    }
   ],
   "source": [
    "prob_more_than_ten = 1 - prob_up_to_ten\n",
    "\n",
    "print('10人より多くのお客さんが来る確率は、{:0.2f}%です。'.format(100*prob_more_than_ten))"
   ]
  },
  {
   "cell_type": "markdown",
   "metadata": {},
   "source": [
    "-----"
   ]
  },
  {
   "cell_type": "markdown",
   "metadata": {},
   "source": [
    "ポアソン分布の基本的なことを解説しました。\n",
    "以下の資料も参考にしてみてください。\n",
    "\n",
    "1.)https://ja.wikipedia.org/wiki/%E3%83%9D%E3%82%A2%E3%82%BD%E3%83%B3%E5%88%86%E5%B8%83\n",
    "\n",
    "2.)http://stattrek.com/probability-distributions/poisson.aspx\n",
    "\n",
    "3.)http://docs.scipy.org/doc/scipy/reference/generated/scipy.stats.poisson.html"
   ]
  }
 ],
 "metadata": {
  "kernelspec": {
   "display_name": "Python 3",
   "language": "python",
   "name": "python3"
  },
  "language_info": {
   "codemirror_mode": {
    "name": "ipython",
    "version": 3
   },
   "file_extension": ".py",
   "mimetype": "text/x-python",
   "name": "python",
   "nbconvert_exporter": "python",
   "pygments_lexer": "ipython3",
   "version": "3.4.3"
  }
 },
 "nbformat": 4,
 "nbformat_minor": 0
}
